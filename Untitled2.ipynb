{
  "nbformat": 4,
  "nbformat_minor": 0,
  "metadata": {
    "colab": {
      "name": "Untitled2.ipynb",
      "version": "0.3.2",
      "provenance": [],
      "include_colab_link": true
    },
    "kernelspec": {
      "name": "python3",
      "display_name": "Python 3"
    },
    "accelerator": "GPU"
  },
  "cells": [
    {
      "cell_type": "markdown",
      "metadata": {
        "id": "view-in-github",
        "colab_type": "text"
      },
      "source": [
        "<a href=\"https://colab.research.google.com/github/AlexLeejc/MyGitProj/blob/master/Untitled2.ipynb\" target=\"_parent\"><img src=\"https://colab.research.google.com/assets/colab-badge.svg\" alt=\"Open In Colab\"/></a>"
      ]
    },
    {
      "metadata": {
        "id": "2_-GbOGpKwkR",
        "colab_type": "code",
        "colab": {
          "base_uri": "https://localhost:8080/",
          "height": 1544
        },
        "outputId": "6894b95c-b4da-4379-97ee-e4c335930a1b"
      },
      "cell_type": "code",
      "source": [
        "from keras.datasets import mnist\n",
        "from keras.utils import np_utils\n",
        "from keras.models import Sequential\n",
        "from keras.layers import Dense\n",
        "\n",
        "(X_train, Y_train), (X_validation, Y_validation) = mnist.load_data()\n",
        "\n",
        "X_train = X_train.reshape(X_train.shape[0], 784).astype('float64') / 255\n",
        "X_validation = X_validation.reshape(X_validation.shape[0], 784).astype('float64') / 255\n",
        "\n",
        "Y_train = np_utils.to_categorical(Y_train, 10)\n",
        "Y_validation = np_utils.to_categorical(Y_validation, 10)\n",
        "\n",
        "model = Sequential()\n",
        "model.add(Dense(512, input_dim=784, activation='relu'))\n",
        "model.add(Dense(10, activation='softmax'))\n",
        "\n",
        "model.compile(loss='categorical_crossentropy', optimizer='adam',\n",
        "              metrics=['accuracy'])\n",
        "\n",
        "hist = model.fit(X_train, Y_train, validation_data=(X_validation, Y_validation),\n",
        "          epochs=30, batch_size=500)\n",
        "\n",
        "print('\\nAccuracy: {:.4f}'.format(model.evaluate(X_validation, Y_validation)[1]))\n",
        "\n",
        "\n",
        "import matplotlib.pyplot as plt\n",
        "\n",
        "fig, loss_ax = plt.subplots()\n",
        "acc_ax = loss_ax.twinx()\n",
        "\n",
        "loss_ax.plot(hist.history['loss'], 'y', label='train loss')\n",
        "loss_ax.plot(hist.history['val_loss'], 'r', label='val loss')\n",
        "loss_ax.set_xlabel('epoch')\n",
        "loss_ax.set_ylabel('loss')\n",
        "loss_ax.legend(loc='upper left')\n",
        "\n",
        "acc_ax.plot(hist.history['acc'], 'b', label='train acc')\n",
        "acc_ax.plot(hist.history['val_acc'], 'g', label='val acc')\n",
        "acc_ax.set_ylabel('accuracy')\n",
        "acc_ax.legend(loc='upper left')\n",
        "\n",
        "plt.show()"
      ],
      "execution_count": 1,
      "outputs": [
        {
          "output_type": "stream",
          "text": [
            "Using TensorFlow backend.\n"
          ],
          "name": "stderr"
        },
        {
          "output_type": "stream",
          "text": [
            "Downloading data from https://s3.amazonaws.com/img-datasets/mnist.npz\n",
            "11493376/11490434 [==============================] - 1s 0us/step\n",
            "WARNING:tensorflow:From /usr/local/lib/python3.6/dist-packages/tensorflow/python/framework/op_def_library.py:263: colocate_with (from tensorflow.python.framework.ops) is deprecated and will be removed in a future version.\n",
            "Instructions for updating:\n",
            "Colocations handled automatically by placer.\n",
            "WARNING:tensorflow:From /usr/local/lib/python3.6/dist-packages/tensorflow/python/ops/math_ops.py:3066: to_int32 (from tensorflow.python.ops.math_ops) is deprecated and will be removed in a future version.\n",
            "Instructions for updating:\n",
            "Use tf.cast instead.\n",
            "Train on 60000 samples, validate on 10000 samples\n",
            "Epoch 1/30\n",
            "60000/60000 [==============================] - 4s 59us/step - loss: 0.4057 - acc: 0.8880 - val_loss: 0.2102 - val_acc: 0.9403\n",
            "Epoch 2/30\n",
            "60000/60000 [==============================] - 1s 15us/step - loss: 0.1766 - acc: 0.9498 - val_loss: 0.1444 - val_acc: 0.9580\n",
            "Epoch 3/30\n",
            "60000/60000 [==============================] - 1s 14us/step - loss: 0.1257 - acc: 0.9643 - val_loss: 0.1110 - val_acc: 0.9673\n",
            "Epoch 4/30\n",
            "60000/60000 [==============================] - 1s 14us/step - loss: 0.0952 - acc: 0.9733 - val_loss: 0.0964 - val_acc: 0.9715\n",
            "Epoch 5/30\n",
            "60000/60000 [==============================] - 1s 15us/step - loss: 0.0754 - acc: 0.9790 - val_loss: 0.0922 - val_acc: 0.9719\n",
            "Epoch 6/30\n",
            "60000/60000 [==============================] - 1s 14us/step - loss: 0.0614 - acc: 0.9829 - val_loss: 0.0802 - val_acc: 0.9763\n",
            "Epoch 7/30\n",
            "60000/60000 [==============================] - 1s 15us/step - loss: 0.0501 - acc: 0.9867 - val_loss: 0.0719 - val_acc: 0.9777\n",
            "Epoch 8/30\n",
            "60000/60000 [==============================] - 1s 14us/step - loss: 0.0414 - acc: 0.9887 - val_loss: 0.0687 - val_acc: 0.9794\n",
            "Epoch 9/30\n",
            "60000/60000 [==============================] - 1s 15us/step - loss: 0.0343 - acc: 0.9911 - val_loss: 0.0681 - val_acc: 0.9783\n",
            "Epoch 10/30\n",
            "60000/60000 [==============================] - 1s 14us/step - loss: 0.0280 - acc: 0.9934 - val_loss: 0.0647 - val_acc: 0.9801\n",
            "Epoch 11/30\n",
            "60000/60000 [==============================] - 1s 15us/step - loss: 0.0237 - acc: 0.9947 - val_loss: 0.0633 - val_acc: 0.9806\n",
            "Epoch 12/30\n",
            "60000/60000 [==============================] - 1s 15us/step - loss: 0.0207 - acc: 0.9956 - val_loss: 0.0602 - val_acc: 0.9807\n",
            "Epoch 13/30\n",
            "60000/60000 [==============================] - 1s 14us/step - loss: 0.0174 - acc: 0.9965 - val_loss: 0.0637 - val_acc: 0.9801\n",
            "Epoch 14/30\n",
            "60000/60000 [==============================] - 1s 15us/step - loss: 0.0144 - acc: 0.9972 - val_loss: 0.0581 - val_acc: 0.9821\n",
            "Epoch 15/30\n",
            "60000/60000 [==============================] - 1s 15us/step - loss: 0.0118 - acc: 0.9985 - val_loss: 0.0613 - val_acc: 0.9802\n",
            "Epoch 16/30\n",
            "60000/60000 [==============================] - 1s 15us/step - loss: 0.0099 - acc: 0.9988 - val_loss: 0.0617 - val_acc: 0.9818\n",
            "Epoch 17/30\n",
            "60000/60000 [==============================] - 1s 15us/step - loss: 0.0085 - acc: 0.9991 - val_loss: 0.0638 - val_acc: 0.9793\n",
            "Epoch 18/30\n",
            "60000/60000 [==============================] - 1s 15us/step - loss: 0.0073 - acc: 0.9993 - val_loss: 0.0616 - val_acc: 0.9812\n",
            "Epoch 19/30\n",
            "60000/60000 [==============================] - 1s 15us/step - loss: 0.0062 - acc: 0.9995 - val_loss: 0.0592 - val_acc: 0.9816\n",
            "Epoch 20/30\n",
            "60000/60000 [==============================] - 1s 15us/step - loss: 0.0052 - acc: 0.9996 - val_loss: 0.0610 - val_acc: 0.9821\n",
            "Epoch 21/30\n",
            "60000/60000 [==============================] - 1s 15us/step - loss: 0.0044 - acc: 0.9998 - val_loss: 0.0625 - val_acc: 0.9810\n",
            "Epoch 22/30\n",
            "60000/60000 [==============================] - 1s 15us/step - loss: 0.0041 - acc: 0.9998 - val_loss: 0.0621 - val_acc: 0.9810\n",
            "Epoch 23/30\n",
            "60000/60000 [==============================] - 1s 15us/step - loss: 0.0033 - acc: 0.9999 - val_loss: 0.0601 - val_acc: 0.9822\n",
            "Epoch 24/30\n",
            "60000/60000 [==============================] - 1s 14us/step - loss: 0.0029 - acc: 0.9999 - val_loss: 0.0631 - val_acc: 0.9814\n",
            "Epoch 25/30\n",
            "60000/60000 [==============================] - 1s 15us/step - loss: 0.0025 - acc: 1.0000 - val_loss: 0.0624 - val_acc: 0.9813\n",
            "Epoch 26/30\n",
            "60000/60000 [==============================] - 1s 15us/step - loss: 0.0023 - acc: 1.0000 - val_loss: 0.0618 - val_acc: 0.9816\n",
            "Epoch 27/30\n",
            "60000/60000 [==============================] - 1s 15us/step - loss: 0.0020 - acc: 1.0000 - val_loss: 0.0614 - val_acc: 0.9821\n",
            "Epoch 28/30\n",
            "60000/60000 [==============================] - 1s 15us/step - loss: 0.0017 - acc: 1.0000 - val_loss: 0.0624 - val_acc: 0.9822\n",
            "Epoch 29/30\n",
            "60000/60000 [==============================] - 1s 15us/step - loss: 0.0015 - acc: 1.0000 - val_loss: 0.0632 - val_acc: 0.9824\n",
            "Epoch 30/30\n",
            "60000/60000 [==============================] - 1s 14us/step - loss: 0.0014 - acc: 1.0000 - val_loss: 0.0642 - val_acc: 0.9820\n",
            "10000/10000 [==============================] - 0s 47us/step\n",
            "\n",
            "Accuracy: 0.9820\n"
          ],
          "name": "stdout"
        },
        {
          "output_type": "display_data",
          "data": {
            "image/png": "[encoded data removed]",
            "text/plain": [
              "<Figure size 432x288 with 2 Axes>"
            ]
          },
          "metadata": {
            "tags": []
          }
        }
      ]
    },
    {
      "metadata": {
        "id": "Z7KP8DtIpjTK",
        "colab_type": "code",
        "colab": {}
      },
      "cell_type": "code",
      "source": [
        ""
      ],
      "execution_count": 0,
      "outputs": []
    }
  ]
}